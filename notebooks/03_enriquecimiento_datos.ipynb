{
 "cells": [
  {
   "cell_type": "markdown",
   "id": "dd49bcae-419a-4697-a6e5-d5f190c93dae",
   "metadata": {},
   "source": [
    "# Enriquecimiento de los datos"
   ]
  },
  {
   "cell_type": "code",
   "execution_count": 1,
   "id": "1d97d780-6b08-4561-b8ff-5d8a68ef5a8a",
   "metadata": {},
   "outputs": [],
   "source": [
    "%matplotlib inline\n",
    "import pandas as pd"
   ]
  },
  {
   "cell_type": "code",
   "execution_count": 4,
   "id": "42514d65-5ffd-4e6a-ae9e-74af5bd2f067",
   "metadata": {},
   "outputs": [],
   "source": [
    "compras_df = pd.read_csv('data/clean_compras.csv')"
   ]
  },
  {
   "cell_type": "code",
   "execution_count": 6,
   "id": "12a643df-e484-45d6-82b8-72fd855fddc5",
   "metadata": {},
   "outputs": [
    {
     "data": {
      "text/plain": [
       "NUM BEN           int64\n",
       "BENEFICIARIO     object\n",
       "RFC              object\n",
       "FACTURA          object\n",
       "CONTRATO         object\n",
       "CONCEPTO         object\n",
       "TIPO             object\n",
       "# OP            float64\n",
       "FECHA            object\n",
       "IMPORTE         float64\n",
       "SHEET            object\n",
       "dtype: object"
      ]
     },
     "execution_count": 6,
     "metadata": {},
     "output_type": "execute_result"
    }
   ],
   "source": [
    "compras_df.dtypes"
   ]
  },
  {
   "cell_type": "markdown",
   "id": "922fe782-6f1a-4209-b346-9ec261750a96",
   "metadata": {},
   "source": [
    "Vemos que el campo `FECHA` esta como `object`, entonces tenemos que hacer una expansión de fecha porque queremos hacer un ejemplo muy visible, la capacidad de  las variables para hacer esta expansión."
   ]
  },
  {
   "cell_type": "markdown",
   "id": "28b891dc-ddcc-4115-8c4d-6b97df576670",
   "metadata": {},
   "source": [
    "## Empezamos con una expansión de datos que tenemos"
   ]
  },
  {
   "cell_type": "code",
   "execution_count": 9,
   "id": "03ddfa6e-6c07-4abb-b4a9-1eb8260e3446",
   "metadata": {},
   "outputs": [
    {
     "data": {
      "text/plain": [
       "0      2020-12-11\n",
       "1      2020-12-11\n",
       "2      2020-12-11\n",
       "3      2020-12-11\n",
       "4      2020-12-23\n",
       "          ...    \n",
       "1535   2020-12-11\n",
       "1536   2020-12-11\n",
       "1537   2020-12-16\n",
       "1538   2020-12-15\n",
       "1539   2020-12-11\n",
       "Name: FECHA, Length: 1540, dtype: datetime64[ns]"
      ]
     },
     "execution_count": 9,
     "metadata": {},
     "output_type": "execute_result"
    }
   ],
   "source": [
    "# Convertimos una columna a fecha.\n",
    "compras_df['FECHA'] = pd.to_datetime(compras_df['FECHA'])\n",
    "compras_df['FECHA']"
   ]
  },
  {
   "cell_type": "code",
   "execution_count": 10,
   "id": "3ed1fbdb-2e18-4940-9d8d-f6f588c88c3c",
   "metadata": {},
   "outputs": [
    {
     "data": {
      "text/plain": [
       "NUM BEN                  int64\n",
       "BENEFICIARIO            object\n",
       "RFC                     object\n",
       "FACTURA                 object\n",
       "CONTRATO                object\n",
       "CONCEPTO                object\n",
       "TIPO                    object\n",
       "# OP                   float64\n",
       "FECHA           datetime64[ns]\n",
       "IMPORTE                float64\n",
       "SHEET                   object\n",
       "dtype: object"
      ]
     },
     "execution_count": 10,
     "metadata": {},
     "output_type": "execute_result"
    }
   ],
   "source": [
    "compras_df.dtypes"
   ]
  },
  {
   "cell_type": "markdown",
   "id": "5d7eacc6-9938-4052-b32f-0dd7340eb0b4",
   "metadata": {},
   "source": [
    "Ahora vamos a expandir el campo de fecha a día, mes y año. Esto nos ayuda especialmente en modelos de clasificación en la cuál se puede hacer una delimitación clara cuando estamos en ciertos meses o años."
   ]
  },
  {
   "cell_type": "code",
   "execution_count": 12,
   "id": "4243b94a-6ab9-4792-8931-a08eb080659f",
   "metadata": {},
   "outputs": [],
   "source": [
    "compras_df['DIA'] = compras_df['FECHA'].apply(lambda x: x.day) #día\n",
    "compras_df['MES'] = compras_df['FECHA'].apply(lambda x: x.month) # mes\n",
    "compras_df['YEAR'] = compras_df['FECHA'].apply(lambda x: x.year) # año"
   ]
  },
  {
   "cell_type": "code",
   "execution_count": 14,
   "id": "66fb8065-d660-4073-a77e-4d3fcd071e6f",
   "metadata": {},
   "outputs": [
    {
     "data": {
      "text/html": [
       "<div>\n",
       "<style scoped>\n",
       "    .dataframe tbody tr th:only-of-type {\n",
       "        vertical-align: middle;\n",
       "    }\n",
       "\n",
       "    .dataframe tbody tr th {\n",
       "        vertical-align: top;\n",
       "    }\n",
       "\n",
       "    .dataframe thead th {\n",
       "        text-align: right;\n",
       "    }\n",
       "</style>\n",
       "<table border=\"1\" class=\"dataframe\">\n",
       "  <thead>\n",
       "    <tr style=\"text-align: right;\">\n",
       "      <th></th>\n",
       "      <th>NUM BEN</th>\n",
       "      <th>BENEFICIARIO</th>\n",
       "      <th>RFC</th>\n",
       "      <th>FACTURA</th>\n",
       "      <th>CONTRATO</th>\n",
       "      <th>CONCEPTO</th>\n",
       "      <th>TIPO</th>\n",
       "      <th># OP</th>\n",
       "      <th>FECHA</th>\n",
       "      <th>IMPORTE</th>\n",
       "      <th>SHEET</th>\n",
       "      <th>DIA</th>\n",
       "      <th>MES</th>\n",
       "      <th>YEAR</th>\n",
       "    </tr>\n",
       "  </thead>\n",
       "  <tbody>\n",
       "    <tr>\n",
       "      <th>0</th>\n",
       "      <td>110152</td>\n",
       "      <td>LLANTAS Y SERVICIOS SERNA ANAHUAC,S.A. DE C.V.</td>\n",
       "      <td>LSS841015DV3</td>\n",
       "      <td>LLS AF8458-158008-3972</td>\n",
       "      <td>OT. 20204373</td>\n",
       "      <td>REEMPLAZO E INSTALACION DE AMORTIGUADORES (DEL...</td>\n",
       "      <td>TR</td>\n",
       "      <td>1019110.0</td>\n",
       "      <td>2020-12-11</td>\n",
       "      <td>14911.80</td>\n",
       "      <td>GASTOS VARIOS</td>\n",
       "      <td>11</td>\n",
       "      <td>12</td>\n",
       "      <td>2020</td>\n",
       "    </tr>\n",
       "    <tr>\n",
       "      <th>1</th>\n",
       "      <td>110152</td>\n",
       "      <td>LLANTAS Y SERVICIOS SERNA ANAHUAC,S.A. DE C.V.</td>\n",
       "      <td>LSS841015DV3</td>\n",
       "      <td>LLS PF6916-158008-4041</td>\n",
       "      <td>OT. 20204425</td>\n",
       "      <td>REEMPLAZO E INSTALACION DE OCHO BIRLOS Y NUEVE...</td>\n",
       "      <td>TR</td>\n",
       "      <td>1019110.0</td>\n",
       "      <td>2020-12-11</td>\n",
       "      <td>2528.80</td>\n",
       "      <td>GASTOS VARIOS</td>\n",
       "      <td>11</td>\n",
       "      <td>12</td>\n",
       "      <td>2020</td>\n",
       "    </tr>\n",
       "    <tr>\n",
       "      <th>2</th>\n",
       "      <td>110152</td>\n",
       "      <td>LLANTAS Y SERVICIOS SERNA ANAHUAC,S.A. DE C.V.</td>\n",
       "      <td>LSS841015DV3</td>\n",
       "      <td>LLS PF6917-158008-3975</td>\n",
       "      <td>OT. 20204376</td>\n",
       "      <td>REEMPLAZO DE DOS RINES  (17). PATRIMONIO 80383...</td>\n",
       "      <td>TR</td>\n",
       "      <td>1019110.0</td>\n",
       "      <td>2020-12-11</td>\n",
       "      <td>8500.02</td>\n",
       "      <td>GASTOS VARIOS</td>\n",
       "      <td>11</td>\n",
       "      <td>12</td>\n",
       "      <td>2020</td>\n",
       "    </tr>\n",
       "    <tr>\n",
       "      <th>3</th>\n",
       "      <td>110152</td>\n",
       "      <td>LLANTAS Y SERVICIOS SERNA ANAHUAC,S.A. DE C.V.</td>\n",
       "      <td>LSS841015DV3</td>\n",
       "      <td>LLS PF7004-158008-3971</td>\n",
       "      <td>OT. 20204374</td>\n",
       "      <td>REEMPLAZO DE  DOS RINES  (14). PATRIMONIO 8007...</td>\n",
       "      <td>TR</td>\n",
       "      <td>1019110.0</td>\n",
       "      <td>2020-12-11</td>\n",
       "      <td>2400.01</td>\n",
       "      <td>GASTOS VARIOS</td>\n",
       "      <td>11</td>\n",
       "      <td>12</td>\n",
       "      <td>2020</td>\n",
       "    </tr>\n",
       "    <tr>\n",
       "      <th>4</th>\n",
       "      <td>110152</td>\n",
       "      <td>LLANTAS Y SERVICIOS SERNA ANAHUAC,S.A. DE C.V.</td>\n",
       "      <td>LSS841015DV3</td>\n",
       "      <td>LLS PF7137-158008-4554</td>\n",
       "      <td>OT. 20205130</td>\n",
       "      <td>REEMPLAZO E INSTALACION DE RIN 14. PATRIMONIO ...</td>\n",
       "      <td>TR</td>\n",
       "      <td>299001496.0</td>\n",
       "      <td>2020-12-23</td>\n",
       "      <td>1537.00</td>\n",
       "      <td>GASTOS VARIOS</td>\n",
       "      <td>23</td>\n",
       "      <td>12</td>\n",
       "      <td>2020</td>\n",
       "    </tr>\n",
       "  </tbody>\n",
       "</table>\n",
       "</div>"
      ],
      "text/plain": [
       "   NUM BEN                                    BENEFICIARIO           RFC  \\\n",
       "0   110152  LLANTAS Y SERVICIOS SERNA ANAHUAC,S.A. DE C.V.  LSS841015DV3   \n",
       "1   110152  LLANTAS Y SERVICIOS SERNA ANAHUAC,S.A. DE C.V.  LSS841015DV3   \n",
       "2   110152  LLANTAS Y SERVICIOS SERNA ANAHUAC,S.A. DE C.V.  LSS841015DV3   \n",
       "3   110152  LLANTAS Y SERVICIOS SERNA ANAHUAC,S.A. DE C.V.  LSS841015DV3   \n",
       "4   110152  LLANTAS Y SERVICIOS SERNA ANAHUAC,S.A. DE C.V.  LSS841015DV3   \n",
       "\n",
       "                  FACTURA      CONTRATO  \\\n",
       "0  LLS AF8458-158008-3972  OT. 20204373   \n",
       "1  LLS PF6916-158008-4041  OT. 20204425   \n",
       "2  LLS PF6917-158008-3975  OT. 20204376   \n",
       "3  LLS PF7004-158008-3971  OT. 20204374   \n",
       "4  LLS PF7137-158008-4554  OT. 20205130   \n",
       "\n",
       "                                            CONCEPTO TIPO         # OP  \\\n",
       "0  REEMPLAZO E INSTALACION DE AMORTIGUADORES (DEL...   TR    1019110.0   \n",
       "1  REEMPLAZO E INSTALACION DE OCHO BIRLOS Y NUEVE...   TR    1019110.0   \n",
       "2  REEMPLAZO DE DOS RINES  (17). PATRIMONIO 80383...   TR    1019110.0   \n",
       "3  REEMPLAZO DE  DOS RINES  (14). PATRIMONIO 8007...   TR    1019110.0   \n",
       "4  REEMPLAZO E INSTALACION DE RIN 14. PATRIMONIO ...   TR  299001496.0   \n",
       "\n",
       "       FECHA   IMPORTE          SHEET  DIA  MES  YEAR  \n",
       "0 2020-12-11  14911.80  GASTOS VARIOS   11   12  2020  \n",
       "1 2020-12-11   2528.80  GASTOS VARIOS   11   12  2020  \n",
       "2 2020-12-11   8500.02  GASTOS VARIOS   11   12  2020  \n",
       "3 2020-12-11   2400.01  GASTOS VARIOS   11   12  2020  \n",
       "4 2020-12-23   1537.00  GASTOS VARIOS   23   12  2020  "
      ]
     },
     "execution_count": 14,
     "metadata": {},
     "output_type": "execute_result"
    }
   ],
   "source": [
    "compras_df.head(5)"
   ]
  },
  {
   "cell_type": "markdown",
   "id": "5c6131e7-9af1-4ae3-85d0-bfa87a3d520c",
   "metadata": {},
   "source": [
    "## Proyectemos unas variables contra otras\n",
    "\n",
    "Vamps hacer equivalencias de una variable con respecto a otras\n",
    "\n",
    "* Proyección de beneficiario por ventas"
   ]
  },
  {
   "cell_type": "code",
   "execution_count": 20,
   "id": "b5ee692c-2a72-4bb3-9d82-56e9b5de9863",
   "metadata": {},
   "outputs": [
    {
     "data": {
      "text/plain": [
       "['CAMARA MEXICANA DE LA INDUSTRIA DE LA CONSTRUCCION',\n",
       " 'AUTOKAM REGIOMONTANA,S.A.DE C.V.',\n",
       " 'CAR ONE MONTERREY, S.A. DE C.V.',\n",
       " 'PEREZ RIOS RAMIRO',\n",
       " 'S.I.M.E.P.R.O.D.E.']"
      ]
     },
     "execution_count": 20,
     "metadata": {},
     "output_type": "execute_result"
    }
   ],
   "source": [
    "# Ventas por beneficiario, lo convertimos en un diccionario\n",
    "beneficiario_ventas = compras_df['BENEFICIARIO'].value_counts().to_dict()\n",
    "list(beneficiario_ventas.keys())[0:5]"
   ]
  },
  {
   "cell_type": "markdown",
   "id": "c2a5b4ca-f9ce-4880-be35-4a8f69d7e126",
   "metadata": {},
   "source": [
    "Nos muestra la llave de cada una de ellas, cada llave va a tener adentro, el conteo de la cantidad de pagos que tiene disponible.\n",
    "\n",
    "Estamos generando la cantidad de pagos por cada uno de los proveedores o beneficiarios."
   ]
  },
  {
   "cell_type": "code",
   "execution_count": 22,
   "id": "ed6466cc-e2ca-4a94-b4fa-113b2640c7c1",
   "metadata": {},
   "outputs": [
    {
     "data": {
      "text/html": [
       "<div>\n",
       "<style scoped>\n",
       "    .dataframe tbody tr th:only-of-type {\n",
       "        vertical-align: middle;\n",
       "    }\n",
       "\n",
       "    .dataframe tbody tr th {\n",
       "        vertical-align: top;\n",
       "    }\n",
       "\n",
       "    .dataframe thead th {\n",
       "        text-align: right;\n",
       "    }\n",
       "</style>\n",
       "<table border=\"1\" class=\"dataframe\">\n",
       "  <thead>\n",
       "    <tr style=\"text-align: right;\">\n",
       "      <th></th>\n",
       "      <th>NUM BEN</th>\n",
       "      <th>BENEFICIARIO</th>\n",
       "      <th>RFC</th>\n",
       "      <th>FACTURA</th>\n",
       "      <th>CONTRATO</th>\n",
       "      <th>CONCEPTO</th>\n",
       "      <th>TIPO</th>\n",
       "      <th># OP</th>\n",
       "      <th>FECHA</th>\n",
       "      <th>IMPORTE</th>\n",
       "      <th>SHEET</th>\n",
       "      <th>DIA</th>\n",
       "      <th>MES</th>\n",
       "      <th>YEAR</th>\n",
       "      <th>BENEFICIARIO_VTAS</th>\n",
       "    </tr>\n",
       "  </thead>\n",
       "  <tbody>\n",
       "    <tr>\n",
       "      <th>0</th>\n",
       "      <td>110152</td>\n",
       "      <td>LLANTAS Y SERVICIOS SERNA ANAHUAC,S.A. DE C.V.</td>\n",
       "      <td>LSS841015DV3</td>\n",
       "      <td>LLS AF8458-158008-3972</td>\n",
       "      <td>OT. 20204373</td>\n",
       "      <td>REEMPLAZO E INSTALACION DE AMORTIGUADORES (DEL...</td>\n",
       "      <td>TR</td>\n",
       "      <td>1019110.0</td>\n",
       "      <td>2020-12-11</td>\n",
       "      <td>14911.80</td>\n",
       "      <td>GASTOS VARIOS</td>\n",
       "      <td>11</td>\n",
       "      <td>12</td>\n",
       "      <td>2020</td>\n",
       "      <td>13</td>\n",
       "    </tr>\n",
       "    <tr>\n",
       "      <th>1</th>\n",
       "      <td>110152</td>\n",
       "      <td>LLANTAS Y SERVICIOS SERNA ANAHUAC,S.A. DE C.V.</td>\n",
       "      <td>LSS841015DV3</td>\n",
       "      <td>LLS PF6916-158008-4041</td>\n",
       "      <td>OT. 20204425</td>\n",
       "      <td>REEMPLAZO E INSTALACION DE OCHO BIRLOS Y NUEVE...</td>\n",
       "      <td>TR</td>\n",
       "      <td>1019110.0</td>\n",
       "      <td>2020-12-11</td>\n",
       "      <td>2528.80</td>\n",
       "      <td>GASTOS VARIOS</td>\n",
       "      <td>11</td>\n",
       "      <td>12</td>\n",
       "      <td>2020</td>\n",
       "      <td>13</td>\n",
       "    </tr>\n",
       "    <tr>\n",
       "      <th>2</th>\n",
       "      <td>110152</td>\n",
       "      <td>LLANTAS Y SERVICIOS SERNA ANAHUAC,S.A. DE C.V.</td>\n",
       "      <td>LSS841015DV3</td>\n",
       "      <td>LLS PF6917-158008-3975</td>\n",
       "      <td>OT. 20204376</td>\n",
       "      <td>REEMPLAZO DE DOS RINES  (17). PATRIMONIO 80383...</td>\n",
       "      <td>TR</td>\n",
       "      <td>1019110.0</td>\n",
       "      <td>2020-12-11</td>\n",
       "      <td>8500.02</td>\n",
       "      <td>GASTOS VARIOS</td>\n",
       "      <td>11</td>\n",
       "      <td>12</td>\n",
       "      <td>2020</td>\n",
       "      <td>13</td>\n",
       "    </tr>\n",
       "  </tbody>\n",
       "</table>\n",
       "</div>"
      ],
      "text/plain": [
       "   NUM BEN                                    BENEFICIARIO           RFC  \\\n",
       "0   110152  LLANTAS Y SERVICIOS SERNA ANAHUAC,S.A. DE C.V.  LSS841015DV3   \n",
       "1   110152  LLANTAS Y SERVICIOS SERNA ANAHUAC,S.A. DE C.V.  LSS841015DV3   \n",
       "2   110152  LLANTAS Y SERVICIOS SERNA ANAHUAC,S.A. DE C.V.  LSS841015DV3   \n",
       "\n",
       "                  FACTURA      CONTRATO  \\\n",
       "0  LLS AF8458-158008-3972  OT. 20204373   \n",
       "1  LLS PF6916-158008-4041  OT. 20204425   \n",
       "2  LLS PF6917-158008-3975  OT. 20204376   \n",
       "\n",
       "                                            CONCEPTO TIPO       # OP  \\\n",
       "0  REEMPLAZO E INSTALACION DE AMORTIGUADORES (DEL...   TR  1019110.0   \n",
       "1  REEMPLAZO E INSTALACION DE OCHO BIRLOS Y NUEVE...   TR  1019110.0   \n",
       "2  REEMPLAZO DE DOS RINES  (17). PATRIMONIO 80383...   TR  1019110.0   \n",
       "\n",
       "       FECHA   IMPORTE          SHEET  DIA  MES  YEAR  BENEFICIARIO_VTAS  \n",
       "0 2020-12-11  14911.80  GASTOS VARIOS   11   12  2020                 13  \n",
       "1 2020-12-11   2528.80  GASTOS VARIOS   11   12  2020                 13  \n",
       "2 2020-12-11   8500.02  GASTOS VARIOS   11   12  2020                 13  "
      ]
     },
     "execution_count": 22,
     "metadata": {},
     "output_type": "execute_result"
    }
   ],
   "source": [
    "compras_df['BENEFICIARIO_VTAS'] =  compras_df['BENEFICIARIO'].apply(lambda x: beneficiario_ventas[x])\n",
    "compras_df.head(3)"
   ]
  },
  {
   "cell_type": "markdown",
   "id": "179ce9d5-bff0-49c7-b7c5-cacba683852a",
   "metadata": {},
   "source": [
    "Vamos hacer lo mismo con el promedio por tipo de hoja(SHEET) o rubro. Estamos enriqueciendo una variable categórica con valores ordinales, lo estamos convirtiendo a expresiones variables contra otras, puede que esto ayude a tomar decisiones.\n",
    "\n",
    "Con esto estamos haciendo ingenieria de datos."
   ]
  },
  {
   "cell_type": "code",
   "execution_count": 25,
   "id": "e1b5d987-bc1a-4490-94ec-962b92a1674f",
   "metadata": {},
   "outputs": [
    {
     "data": {
      "text/plain": [
       "{'COMUNICACION': 109705.34366197183,\n",
       " 'CONTRATISTAS Y FDO FED': 474566.76578729285,\n",
       " 'GASTOS VARIOS': 881659.7317971016,\n",
       " 'SERV PPROF': 229592.16666666666,\n",
       " 'SERV. PERS.': 59623.40521739131}"
      ]
     },
     "execution_count": 25,
     "metadata": {},
     "output_type": "execute_result"
    }
   ],
   "source": [
    "# Promedio de cada uno de esos pagos\n",
    "sheet_prom_compras = compras_df.groupby('SHEET')['IMPORTE'].mean().to_dict()\n",
    "sheet_prom_compras"
   ]
  },
  {
   "cell_type": "code",
   "execution_count": 26,
   "id": "7425907b-37b8-4474-aae3-535cfce09f4b",
   "metadata": {},
   "outputs": [
    {
     "data": {
      "text/html": [
       "<div>\n",
       "<style scoped>\n",
       "    .dataframe tbody tr th:only-of-type {\n",
       "        vertical-align: middle;\n",
       "    }\n",
       "\n",
       "    .dataframe tbody tr th {\n",
       "        vertical-align: top;\n",
       "    }\n",
       "\n",
       "    .dataframe thead th {\n",
       "        text-align: right;\n",
       "    }\n",
       "</style>\n",
       "<table border=\"1\" class=\"dataframe\">\n",
       "  <thead>\n",
       "    <tr style=\"text-align: right;\">\n",
       "      <th></th>\n",
       "      <th>NUM BEN</th>\n",
       "      <th>BENEFICIARIO</th>\n",
       "      <th>RFC</th>\n",
       "      <th>FACTURA</th>\n",
       "      <th>CONTRATO</th>\n",
       "      <th>CONCEPTO</th>\n",
       "      <th>TIPO</th>\n",
       "      <th># OP</th>\n",
       "      <th>FECHA</th>\n",
       "      <th>IMPORTE</th>\n",
       "      <th>SHEET</th>\n",
       "      <th>DIA</th>\n",
       "      <th>MES</th>\n",
       "      <th>YEAR</th>\n",
       "      <th>BENEFICIARIO_VTAS</th>\n",
       "      <th>IMPORTE_GTO_PROM</th>\n",
       "    </tr>\n",
       "  </thead>\n",
       "  <tbody>\n",
       "    <tr>\n",
       "      <th>0</th>\n",
       "      <td>110152</td>\n",
       "      <td>LLANTAS Y SERVICIOS SERNA ANAHUAC,S.A. DE C.V.</td>\n",
       "      <td>LSS841015DV3</td>\n",
       "      <td>LLS AF8458-158008-3972</td>\n",
       "      <td>OT. 20204373</td>\n",
       "      <td>REEMPLAZO E INSTALACION DE AMORTIGUADORES (DEL...</td>\n",
       "      <td>TR</td>\n",
       "      <td>1019110.0</td>\n",
       "      <td>2020-12-11</td>\n",
       "      <td>14911.80</td>\n",
       "      <td>GASTOS VARIOS</td>\n",
       "      <td>11</td>\n",
       "      <td>12</td>\n",
       "      <td>2020</td>\n",
       "      <td>13</td>\n",
       "      <td>881659.731797</td>\n",
       "    </tr>\n",
       "    <tr>\n",
       "      <th>1</th>\n",
       "      <td>110152</td>\n",
       "      <td>LLANTAS Y SERVICIOS SERNA ANAHUAC,S.A. DE C.V.</td>\n",
       "      <td>LSS841015DV3</td>\n",
       "      <td>LLS PF6916-158008-4041</td>\n",
       "      <td>OT. 20204425</td>\n",
       "      <td>REEMPLAZO E INSTALACION DE OCHO BIRLOS Y NUEVE...</td>\n",
       "      <td>TR</td>\n",
       "      <td>1019110.0</td>\n",
       "      <td>2020-12-11</td>\n",
       "      <td>2528.80</td>\n",
       "      <td>GASTOS VARIOS</td>\n",
       "      <td>11</td>\n",
       "      <td>12</td>\n",
       "      <td>2020</td>\n",
       "      <td>13</td>\n",
       "      <td>881659.731797</td>\n",
       "    </tr>\n",
       "    <tr>\n",
       "      <th>2</th>\n",
       "      <td>110152</td>\n",
       "      <td>LLANTAS Y SERVICIOS SERNA ANAHUAC,S.A. DE C.V.</td>\n",
       "      <td>LSS841015DV3</td>\n",
       "      <td>LLS PF6917-158008-3975</td>\n",
       "      <td>OT. 20204376</td>\n",
       "      <td>REEMPLAZO DE DOS RINES  (17). PATRIMONIO 80383...</td>\n",
       "      <td>TR</td>\n",
       "      <td>1019110.0</td>\n",
       "      <td>2020-12-11</td>\n",
       "      <td>8500.02</td>\n",
       "      <td>GASTOS VARIOS</td>\n",
       "      <td>11</td>\n",
       "      <td>12</td>\n",
       "      <td>2020</td>\n",
       "      <td>13</td>\n",
       "      <td>881659.731797</td>\n",
       "    </tr>\n",
       "  </tbody>\n",
       "</table>\n",
       "</div>"
      ],
      "text/plain": [
       "   NUM BEN                                    BENEFICIARIO           RFC  \\\n",
       "0   110152  LLANTAS Y SERVICIOS SERNA ANAHUAC,S.A. DE C.V.  LSS841015DV3   \n",
       "1   110152  LLANTAS Y SERVICIOS SERNA ANAHUAC,S.A. DE C.V.  LSS841015DV3   \n",
       "2   110152  LLANTAS Y SERVICIOS SERNA ANAHUAC,S.A. DE C.V.  LSS841015DV3   \n",
       "\n",
       "                  FACTURA      CONTRATO  \\\n",
       "0  LLS AF8458-158008-3972  OT. 20204373   \n",
       "1  LLS PF6916-158008-4041  OT. 20204425   \n",
       "2  LLS PF6917-158008-3975  OT. 20204376   \n",
       "\n",
       "                                            CONCEPTO TIPO       # OP  \\\n",
       "0  REEMPLAZO E INSTALACION DE AMORTIGUADORES (DEL...   TR  1019110.0   \n",
       "1  REEMPLAZO E INSTALACION DE OCHO BIRLOS Y NUEVE...   TR  1019110.0   \n",
       "2  REEMPLAZO DE DOS RINES  (17). PATRIMONIO 80383...   TR  1019110.0   \n",
       "\n",
       "       FECHA   IMPORTE          SHEET  DIA  MES  YEAR  BENEFICIARIO_VTAS  \\\n",
       "0 2020-12-11  14911.80  GASTOS VARIOS   11   12  2020                 13   \n",
       "1 2020-12-11   2528.80  GASTOS VARIOS   11   12  2020                 13   \n",
       "2 2020-12-11   8500.02  GASTOS VARIOS   11   12  2020                 13   \n",
       "\n",
       "   IMPORTE_GTO_PROM  \n",
       "0     881659.731797  \n",
       "1     881659.731797  \n",
       "2     881659.731797  "
      ]
     },
     "execution_count": 26,
     "metadata": {},
     "output_type": "execute_result"
    }
   ],
   "source": [
    "compras_df['IMPORTE_GTO_PROM'] =  compras_df['SHEET'].apply(lambda x: sheet_prom_compras[x])\n",
    "compras_df.head(3)"
   ]
  },
  {
   "cell_type": "markdown",
   "id": "2c09e824-3a08-4f26-8bef-bccad34cf371",
   "metadata": {},
   "source": [
    "## Traernos información externa.\n",
    "\n",
    "Enriquecer los datos usando una tool de páginas de linkeding.\n",
    "\n",
    "Vamos a usar una herramienta que se llama `PhantomBuster` https://phantombuster.com/phantombuster?category=linkedin\n",
    "Con el nomnbre del beneficiario fuimos a revisar su página de LinkedIn, para ver si encontrabamos una coincidencia, puede que con algunos este incorrecto pero podemos usarla como una fuente de información que nos puede traer información interesante."
   ]
  },
  {
   "cell_type": "code",
   "execution_count": 27,
   "id": "2e7284cf-2e68-4274-89e7-7639a9205542",
   "metadata": {},
   "outputs": [],
   "source": [
    "#Creamos el nuevo DataFrame con todos los beneficiarios\n",
    "pd.DataFrame(compras_df['BENEFICIARIO'].unique()).to_csv('data/unique_beneficiarios.csv', index=None)"
   ]
  },
  {
   "cell_type": "markdown",
   "id": "5dd9778d-2d29-403d-87a6-f264b9674bdb",
   "metadata": {},
   "source": [
    "Queda pendiente el Web Scraping de Linkeding"
   ]
  },
  {
   "cell_type": "code",
   "execution_count": 29,
   "id": "9c4a7552-189b-43aa-8e51-1905651fbf6f",
   "metadata": {},
   "outputs": [],
   "source": [
    "#Cargar\n",
    "linkedin_mty = pd.read_csv('data/linkedin_mty.csv')"
   ]
  },
  {
   "cell_type": "code",
   "execution_count": 34,
   "id": "176127e0-9d7a-487e-9250-7357056e6274",
   "metadata": {},
   "outputs": [
    {
     "data": {
      "text/plain": [
       "['Rosa Lorena Valdez Miranda',\n",
       " 'Roque Yañez Ramos',\n",
       " 'Laura Perla Cordova Rodriguez',\n",
       " 'Rosa Ofelia Coronado Flores',\n",
       " 'Alvaro Flores Palomo',\n",
       " 'Liliana Tijerina Cantu',\n",
       " 'Ruben Basaldua Moyeda',\n",
       " 'Maria Cristina Muñoz Rios',\n",
       " 'Gerardo Guerrero Adame',\n",
       " 'Mayela Maria De Lourdes Quiroga Tamez']"
      ]
     },
     "execution_count": 34,
     "metadata": {},
     "output_type": "execute_result"
    }
   ],
   "source": [
    "# Dtectamos cuáles tienen linkedin y cuales no.\n",
    "has_site = {}\n",
    "for i, ele in linkedin_mty.fillna(True).iterrows():\n",
    "    has_site[ele['query']] = True if ele['error'] == True else False\n",
    "\n",
    "list(has_site)[0:10]"
   ]
  },
  {
   "cell_type": "markdown",
   "id": "dda3d7a7-b2d4-4201-ae40-ef09c6efd8b7",
   "metadata": {},
   "source": [
    "Vamos a genear una característica has"
   ]
  },
  {
   "cell_type": "code",
   "execution_count": 35,
   "id": "9cbe3d50-dbcc-4340-a306-5e74cc1e2d70",
   "metadata": {},
   "outputs": [],
   "source": [
    "#Eliminamos los doble espacio\n",
    "compras_df['HAS_LINKEDIN_SITE'] = compras_df['BENEFICIARIO'].apply(lambda x: has_site[x.replace('  ', ' ')])"
   ]
  },
  {
   "cell_type": "code",
   "execution_count": 38,
   "id": "7ed2e83d-33ee-4270-8d80-916885575a8b",
   "metadata": {},
   "outputs": [
    {
     "data": {
      "text/plain": [
       "True     1392\n",
       "False     148\n",
       "Name: HAS_LINKEDIN_SITE, dtype: int64"
      ]
     },
     "execution_count": 38,
     "metadata": {},
     "output_type": "execute_result"
    }
   ],
   "source": [
    "compras_df['HAS_LINKEDIN_SITE'].value_counts()"
   ]
  },
  {
   "cell_type": "code",
   "execution_count": 39,
   "id": "e206c45e-7398-4cec-9d41-3b72acad62f5",
   "metadata": {},
   "outputs": [],
   "source": [
    "compras_df.to_csv('data/compras_df_enriched.csv', index=None)"
   ]
  }
 ],
 "metadata": {
  "kernelspec": {
   "display_name": "Python 3 (ipykernel)",
   "language": "python",
   "name": "python3"
  },
  "language_info": {
   "codemirror_mode": {
    "name": "ipython",
    "version": 3
   },
   "file_extension": ".py",
   "mimetype": "text/x-python",
   "name": "python",
   "nbconvert_exporter": "python",
   "pygments_lexer": "ipython3",
   "version": "3.10.4"
  }
 },
 "nbformat": 4,
 "nbformat_minor": 5
}
