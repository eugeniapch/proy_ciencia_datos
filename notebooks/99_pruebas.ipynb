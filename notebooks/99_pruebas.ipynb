{
 "cells": [
  {
   "cell_type": "markdown",
   "id": "53c871f8-3929-4bde-8c70-a5f0301a5bb9",
   "metadata": {},
   "source": [
    "### Pruebas de lectura de archivos Excel"
   ]
  },
  {
   "cell_type": "code",
   "execution_count": 3,
   "id": "8ac4e6e1-8ed0-4309-bc35-e3ddbfe0bec1",
   "metadata": {},
   "outputs": [],
   "source": [
    "import xlrd\n",
    "import os"
   ]
  },
  {
   "cell_type": "code",
   "execution_count": 4,
   "id": "c181e3d5-6f5d-4404-b4d7-832ce0e36029",
   "metadata": {},
   "outputs": [],
   "source": [
    "# Para cambiarnos de carpeta\n",
    "os.chdir('/home/eugeniapch/desarrollo/pro_cienciad/')"
   ]
  },
  {
   "cell_type": "code",
   "execution_count": 9,
   "id": "e1a8638d-d971-4ce4-a6fc-80f28c9781d0",
   "metadata": {},
   "outputs": [
    {
     "data": {
      "text/plain": [
       "'2.0.1'"
      ]
     },
     "execution_count": 9,
     "metadata": {},
     "output_type": "execute_result"
    }
   ],
   "source": [
    "#versión de xlrd\n",
    "getattr(xlrd, next(item for item in dir(xlrd) if 'version' in item.lower()))"
   ]
  },
  {
   "cell_type": "code",
   "execution_count": 7,
   "id": "b58f42c2-fc83-4b1f-82af-07003678af2a",
   "metadata": {},
   "outputs": [
    {
     "ename": "TypeError",
     "evalue": "open_workbook() got an unexpected keyword argument 'engine'",
     "output_type": "error",
     "traceback": [
      "\u001b[0;31m---------------------------------------------------------------------------\u001b[0m",
      "\u001b[0;31mTypeError\u001b[0m                                 Traceback (most recent call last)",
      "Input \u001b[0;32mIn [7]\u001b[0m, in \u001b[0;36m<cell line: 3>\u001b[0;34m()\u001b[0m\n\u001b[1;32m      1\u001b[0m filename \u001b[38;5;241m=\u001b[39m \u001b[38;5;124m'\u001b[39m\u001b[38;5;124marchivos/12_DICIEMBRE_2020.xlsx\u001b[39m\u001b[38;5;124m'\u001b[39m\n\u001b[0;32m----> 3\u001b[0m xls \u001b[38;5;241m=\u001b[39m \u001b[43mxlrd\u001b[49m\u001b[38;5;241;43m.\u001b[39;49m\u001b[43mopen_workbook\u001b[49m\u001b[43m(\u001b[49m\u001b[43mfilename\u001b[49m\u001b[43m,\u001b[49m\u001b[43m \u001b[49m\u001b[43mon_demand\u001b[49m\u001b[43m \u001b[49m\u001b[38;5;241;43m=\u001b[39;49m\u001b[43m \u001b[49m\u001b[38;5;28;43;01mTrue\u001b[39;49;00m\u001b[43m,\u001b[49m\u001b[43m \u001b[49m\u001b[43mengine\u001b[49m\u001b[38;5;241;43m=\u001b[39;49m\u001b[38;5;124;43m'\u001b[39;49m\u001b[38;5;124;43mopenpyxl\u001b[39;49m\u001b[38;5;124;43m'\u001b[39;49m\u001b[43m \u001b[49m\u001b[43m)\u001b[49m\n\u001b[1;32m      4\u001b[0m sheet_lst \u001b[38;5;241m=\u001b[39m xls\u001b[38;5;241m.\u001b[39msheet_names()\n\u001b[1;32m      5\u001b[0m df \u001b[38;5;241m=\u001b[39m pd\u001b[38;5;241m.\u001b[39mDataFrame()\n",
      "\u001b[0;31mTypeError\u001b[0m: open_workbook() got an unexpected keyword argument 'engine'"
     ]
    }
   ],
   "source": [
    "filename = 'archivos/12_DICIEMBRE_2020.xlsx'\n",
    "\n",
    "xls = xlrd.open_workbook(filename, on_demand = True, engine='openpyxl')\n",
    "sheet_lst = xls.sheet_names()\n",
    "df = pd.DataFrame()\n",
    "\n",
    "# for i in range(1,len(sheet_lst)):    \n",
    "#     df_read = pd.read_excel(filename, sheet_name=sheet_lst[i], skiprows=5, engine = 'openpyxl')\n",
    "#     df_read['sheet'] = sheet_lst[i]\n",
    "#     df = df.append(df_read)"
   ]
  }
 ],
 "metadata": {
  "kernelspec": {
   "display_name": "Python 3 (ipykernel)",
   "language": "python",
   "name": "python3"
  },
  "language_info": {
   "codemirror_mode": {
    "name": "ipython",
    "version": 3
   },
   "file_extension": ".py",
   "mimetype": "text/x-python",
   "name": "python",
   "nbconvert_exporter": "python",
   "pygments_lexer": "ipython3",
   "version": "3.10.4"
  }
 },
 "nbformat": 4,
 "nbformat_minor": 5
}
